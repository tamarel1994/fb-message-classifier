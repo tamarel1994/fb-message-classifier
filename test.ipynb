{
 "cells": [
  {
   "cell_type": "code",
   "execution_count": 2,
   "id": "98333fed-3ee4-4c17-ae43-5bc1b7971cce",
   "metadata": {},
   "outputs": [],
   "source": [
    "import dill\n",
    "import pandas as pd"
   ]
  },
  {
   "cell_type": "markdown",
   "id": "bf03e540-1e94-49bd-ba41-f26ab73d2835",
   "metadata": {},
   "source": [
    "# Load test dataset"
   ]
  },
  {
   "cell_type": "code",
   "execution_count": 35,
   "id": "e56df2ee-b1f4-4983-9cd2-3ec68a9c5c1f",
   "metadata": {},
   "outputs": [],
   "source": [
    "MIGRASIA_ID_SAFE = 425040987834981"
   ]
  },
  {
   "cell_type": "code",
   "execution_count": 36,
   "id": "ddbd9b33-e6bd-413a-9569-6124f6e7a401",
   "metadata": {},
   "outputs": [],
   "source": [
    "fb = pd.read_csv('downloader/msgs.csv')\n",
    "fb.dropna(subset=['from_id', 'message'], inplace=True)"
   ]
  },
  {
   "cell_type": "code",
   "execution_count": 37,
   "id": "02c9b58d-f73c-45ae-a1fe-7539906157f1",
   "metadata": {
    "tags": []
   },
   "outputs": [
    {
     "data": {
      "text/html": [
       "<div>\n",
       "<style scoped>\n",
       "    .dataframe tbody tr th:only-of-type {\n",
       "        vertical-align: middle;\n",
       "    }\n",
       "\n",
       "    .dataframe tbody tr th {\n",
       "        vertical-align: top;\n",
       "    }\n",
       "\n",
       "    .dataframe thead th {\n",
       "        text-align: right;\n",
       "    }\n",
       "</style>\n",
       "<table border=\"1\" class=\"dataframe\">\n",
       "  <thead>\n",
       "    <tr style=\"text-align: right;\">\n",
       "      <th></th>\n",
       "      <th>from_id</th>\n",
       "      <th>from</th>\n",
       "      <th>time</th>\n",
       "      <th>message</th>\n",
       "      <th>attachments</th>\n",
       "      <th>shares</th>\n",
       "      <th>url</th>\n",
       "    </tr>\n",
       "  </thead>\n",
       "  <tbody>\n",
       "    <tr>\n",
       "      <th>1</th>\n",
       "      <td>4.414892e+15</td>\n",
       "      <td>Sheila Drilon Prudente</td>\n",
       "      <td>2021-11-03 15:12:35</td>\n",
       "      <td>Hello madam</td>\n",
       "      <td>NaN</td>\n",
       "      <td>NaN</td>\n",
       "      <td>NaN</td>\n",
       "    </tr>\n",
       "    <tr>\n",
       "      <th>3</th>\n",
       "      <td>4.414892e+15</td>\n",
       "      <td>Sheila Drilon Prudente</td>\n",
       "      <td>2021-11-03 15:12:52</td>\n",
       "      <td>San office nyo madam</td>\n",
       "      <td>NaN</td>\n",
       "      <td>NaN</td>\n",
       "      <td>NaN</td>\n",
       "    </tr>\n",
       "    <tr>\n",
       "      <th>5</th>\n",
       "      <td>6.110776e+15</td>\n",
       "      <td>Rayatrisha Joy Bautista</td>\n",
       "      <td>2021-11-03 15:25:48</td>\n",
       "      <td>Hello sir/maam goodevening can i asked a guest...</td>\n",
       "      <td>NaN</td>\n",
       "      <td>NaN</td>\n",
       "      <td>NaN</td>\n",
       "    </tr>\n",
       "  </tbody>\n",
       "</table>\n",
       "</div>"
      ],
      "text/plain": [
       "        from_id                     from                 time  \\\n",
       "1  4.414892e+15   Sheila Drilon Prudente  2021-11-03 15:12:35   \n",
       "3  4.414892e+15   Sheila Drilon Prudente  2021-11-03 15:12:52   \n",
       "5  6.110776e+15  Rayatrisha Joy Bautista  2021-11-03 15:25:48   \n",
       "\n",
       "                                             message attachments  shares  url  \n",
       "1                                        Hello madam         NaN     NaN  NaN  \n",
       "3                               San office nyo madam         NaN     NaN  NaN  \n",
       "5  Hello sir/maam goodevening can i asked a guest...         NaN     NaN  NaN  "
      ]
     },
     "execution_count": 37,
     "metadata": {},
     "output_type": "execute_result"
    }
   ],
   "source": [
    "incoming_msgs = fb[fb.from_id != MIGRASIA_ID_SAFE]\n",
    "incoming_msgs.head(3)"
   ]
  },
  {
   "cell_type": "markdown",
   "id": "ed8496fd-93af-4338-8558-39206890aada",
   "metadata": {
    "tags": []
   },
   "source": [
    "# Pre-classify test dataset"
   ]
  },
  {
   "cell_type": "code",
   "execution_count": 6,
   "id": "fddffed9-238d-44a3-8276-1956995630f5",
   "metadata": {},
   "outputs": [],
   "source": [
    "from nltk.stem import WordNetLemmatizer\n",
    "wordnet_lemmatizer = WordNetLemmatizer()\n",
    "\n",
    "def wordfilter(word):\n",
    "    # Only consider words that pass the following conditions\n",
    "    return (word != '') and (len(word) >= 3) and word.isalpha()\n",
    "\n",
    "def stemMsg(msg):\n",
    "    token_words=word_tokenize(msg)\n",
    "    token_words\n",
    "    stemmed_msg=[]\n",
    "    for word in token_words:\n",
    "        if not wordfilter(word): continue\n",
    "        \n",
    "        #stemmed_msg.append(lancaster.stem(word))\n",
    "        stemmed_msg.append( wordnet_lemmatizer.lemmatize(word).lower() )\n",
    "    \n",
    "    return stemmed_msg\n",
    "\n",
    "def stemMsgText(msg):\n",
    "    return \" \".join(stemMsg(msg))"
   ]
  },
  {
   "cell_type": "code",
   "execution_count": 7,
   "id": "4c131d34-3455-4dd9-b98a-0e141752724e",
   "metadata": {},
   "outputs": [],
   "source": [
    "AGENCY_WORD_LIST = ['agency', 'agent']\n",
    "EMPLOYER_WORD_LIST = ['employer', ' amo ']\n",
    "LENDER_WORD_LIST = ['lend', 'finance', 'borrow', 'debt', 'utang', 'borrow']\n",
    "\n",
    "def classifyMsg(msg: str, classification_words) -> bool:\n",
    "    assert type(msg) is str, f'message \"{msg}\"({type(msg)}) is not a string'\n",
    "    if type(msg) is not str:\n",
    "        print(msg)\n",
    "        msg = str(msg)\n",
    "    \n",
    "    return any([(word.lower() in msg.lower()) for word in classification_words])"
   ]
  },
  {
   "cell_type": "markdown",
   "id": "1f3e3aa9-432b-455b-9451-b76fcdcb7012",
   "metadata": {
    "tags": []
   },
   "source": [
    "# Load classifiers"
   ]
  },
  {
   "cell_type": "code",
   "execution_count": 9,
   "id": "9bd27ad7-bb02-4e83-9161-79f26bd026d7",
   "metadata": {},
   "outputs": [],
   "source": [
    "is_about_agency = dill.load(open('agency.dill', 'rb'))\n",
    "is_about_lender = dill.load(open('lender.dill', 'rb'))\n",
    "is_about_employer = dill.load(open('employer.dill', 'rb'))"
   ]
  },
  {
   "cell_type": "code",
   "execution_count": 10,
   "id": "28587a07-ade1-4bf1-a579-9a7aca2b2386",
   "metadata": {},
   "outputs": [
    {
     "data": {
      "text/plain": [
       "(True, 1)"
      ]
     },
     "execution_count": 10,
     "metadata": {},
     "output_type": "execute_result"
    }
   ],
   "source": [
    "is_about_employer('Then my employer pay all my debt in Pacific ace')"
   ]
  },
  {
   "cell_type": "markdown",
   "id": "60d3c335-599a-4068-b067-ef9663f643c3",
   "metadata": {},
   "source": [
    "# Evaluate classifiers"
   ]
  },
  {
   "cell_type": "markdown",
   "id": "f1ef6900-e644-4a0d-bc2d-45296d9d9098",
   "metadata": {
    "tags": []
   },
   "source": [
    "## Classify"
   ]
  },
  {
   "cell_type": "code",
   "execution_count": 11,
   "id": "20565803-1d72-41bf-ace5-7627e315716c",
   "metadata": {},
   "outputs": [],
   "source": [
    "classified = incoming_msgs.copy()\n",
    "classified = classified.assign( isAgency = incoming_msgs.message.apply(lambda msg: is_about_agency(msg)[0]) )\n",
    "classified = classified.assign( isLender = incoming_msgs.message.apply(lambda msg: is_about_lender(msg)[0]) )\n",
    "classified = classified.assign( isEmployer = incoming_msgs.message.apply(lambda msg: is_about_employer(msg)[0]) )"
   ]
  },
  {
   "cell_type": "code",
   "execution_count": 12,
   "id": "b585b011-f4ff-4f61-a732-8730df1eab9b",
   "metadata": {},
   "outputs": [],
   "source": [
    "classified = classified.assign( preAgency = incoming_msgs.message.apply(lambda msg: classifyMsg(msg, AGENCY_WORD_LIST)) )\n",
    "classified = classified.assign( preLender = incoming_msgs.message.apply(lambda msg: classifyMsg(msg, LENDER_WORD_LIST)) )\n",
    "classified = classified.assign( preEmployer = incoming_msgs.message.apply(lambda msg: classifyMsg(msg, EMPLOYER_WORD_LIST)) )"
   ]
  },
  {
   "cell_type": "code",
   "execution_count": 13,
   "id": "b47ee281-e206-4b95-8f15-62e73e74267b",
   "metadata": {},
   "outputs": [],
   "source": [
    "no_match_lender = classified[classified.isLender != classified.preLender]"
   ]
  },
  {
   "cell_type": "code",
   "execution_count": 14,
   "id": "80de3258-a575-4719-a80d-f4acf4260330",
   "metadata": {},
   "outputs": [
    {
     "data": {
      "text/html": [
       "<div>\n",
       "<style scoped>\n",
       "    .dataframe tbody tr th:only-of-type {\n",
       "        vertical-align: middle;\n",
       "    }\n",
       "\n",
       "    .dataframe tbody tr th {\n",
       "        vertical-align: top;\n",
       "    }\n",
       "\n",
       "    .dataframe thead th {\n",
       "        text-align: right;\n",
       "    }\n",
       "</style>\n",
       "<table border=\"1\" class=\"dataframe\">\n",
       "  <thead>\n",
       "    <tr style=\"text-align: right;\">\n",
       "      <th></th>\n",
       "      <th>message</th>\n",
       "      <th>isLender</th>\n",
       "      <th>preLender</th>\n",
       "    </tr>\n",
       "  </thead>\n",
       "  <tbody>\n",
       "    <tr>\n",
       "      <th>1421</th>\n",
       "      <td>hello po..ask lng po kng paano po mag reklamo ...</td>\n",
       "      <td>True</td>\n",
       "      <td>False</td>\n",
       "    </tr>\n",
       "    <tr>\n",
       "      <th>1991</th>\n",
       "      <td>payment ko kabayan loan n 1k para s penalty ko...</td>\n",
       "      <td>True</td>\n",
       "      <td>False</td>\n",
       "    </tr>\n",
       "    <tr>\n",
       "      <th>2659</th>\n",
       "      <td>Good pm po. Nag loan po ako sa familyhan credi...</td>\n",
       "      <td>True</td>\n",
       "      <td>False</td>\n",
       "    </tr>\n",
       "    <tr>\n",
       "      <th>6142</th>\n",
       "      <td>im not sure how you can help me with my compla...</td>\n",
       "      <td>True</td>\n",
       "      <td>False</td>\n",
       "    </tr>\n",
       "    <tr>\n",
       "      <th>8726</th>\n",
       "      <td>Hello Sir/ Ma'am, good evening! i have a probl...</td>\n",
       "      <td>True</td>\n",
       "      <td>False</td>\n",
       "    </tr>\n",
       "    <tr>\n",
       "      <th>...</th>\n",
       "      <td>...</td>\n",
       "      <td>...</td>\n",
       "      <td>...</td>\n",
       "    </tr>\n",
       "    <tr>\n",
       "      <th>150435</th>\n",
       "      <td>The rich deposit 700 for the Interest  and pen...</td>\n",
       "      <td>True</td>\n",
       "      <td>False</td>\n",
       "    </tr>\n",
       "    <tr>\n",
       "      <th>151955</th>\n",
       "      <td>I throw away already but many times  loan cash...</td>\n",
       "      <td>True</td>\n",
       "      <td>False</td>\n",
       "    </tr>\n",
       "    <tr>\n",
       "      <th>152675</th>\n",
       "      <td>Last year i was terminated becausw of Rich Cre...</td>\n",
       "      <td>True</td>\n",
       "      <td>False</td>\n",
       "    </tr>\n",
       "    <tr>\n",
       "      <th>167649</th>\n",
       "      <td>Tinatakot po ako na dting ku pinas e estafa da...</td>\n",
       "      <td>True</td>\n",
       "      <td>False</td>\n",
       "    </tr>\n",
       "    <tr>\n",
       "      <th>171425</th>\n",
       "      <td>Hi po..Goodafternoon..Ask ko lang po anu pwedi...</td>\n",
       "      <td>True</td>\n",
       "      <td>False</td>\n",
       "    </tr>\n",
       "  </tbody>\n",
       "</table>\n",
       "<p>65 rows × 3 columns</p>\n",
       "</div>"
      ],
      "text/plain": [
       "                                                  message  isLender  preLender\n",
       "1421    hello po..ask lng po kng paano po mag reklamo ...      True      False\n",
       "1991    payment ko kabayan loan n 1k para s penalty ko...      True      False\n",
       "2659    Good pm po. Nag loan po ako sa familyhan credi...      True      False\n",
       "6142    im not sure how you can help me with my compla...      True      False\n",
       "8726    Hello Sir/ Ma'am, good evening! i have a probl...      True      False\n",
       "...                                                   ...       ...        ...\n",
       "150435  The rich deposit 700 for the Interest  and pen...      True      False\n",
       "151955  I throw away already but many times  loan cash...      True      False\n",
       "152675  Last year i was terminated becausw of Rich Cre...      True      False\n",
       "167649  Tinatakot po ako na dting ku pinas e estafa da...      True      False\n",
       "171425  Hi po..Goodafternoon..Ask ko lang po anu pwedi...      True      False\n",
       "\n",
       "[65 rows x 3 columns]"
      ]
     },
     "execution_count": 14,
     "metadata": {},
     "output_type": "execute_result"
    }
   ],
   "source": [
    "no_match_lender[['message', 'isLender', 'preLender']]"
   ]
  },
  {
   "cell_type": "markdown",
   "id": "820dd307-0497-455d-8749-214e4d380879",
   "metadata": {},
   "source": [
    "## Compare to pre-classification"
   ]
  },
  {
   "cell_type": "markdown",
   "id": "e01dd0b0-2698-439e-876c-2bdb3506e721",
   "metadata": {
    "tags": []
   },
   "source": [
    "### Lender"
   ]
  },
  {
   "cell_type": "code",
   "execution_count": 31,
   "id": "db54bf27-cd2f-40f8-a71a-cd429c47195f",
   "metadata": {},
   "outputs": [
    {
     "name": "stdout",
     "output_type": "stream",
     "text": [
      "5.783287715343745% of incoming messages are about lenders\n"
     ]
    }
   ],
   "source": [
    "print( len(classified[classified.isLender])/len(classified)*100, end='' )\n",
    "print('% of incoming messages are about lenders')"
   ]
  },
  {
   "cell_type": "code",
   "execution_count": 15,
   "id": "4afc7f2b-40eb-4d47-b104-f310087e7aea",
   "metadata": {},
   "outputs": [],
   "source": [
    "lender_notPreclassified = len( classified[classified.isLender & (classified.preLender == False)] )"
   ]
  },
  {
   "cell_type": "code",
   "execution_count": 16,
   "id": "15641f6d-32ec-4054-8518-c5820d53c508",
   "metadata": {},
   "outputs": [],
   "source": [
    "total_lenders = len( classified[classified.preLender | classified.isLender] )"
   ]
  },
  {
   "cell_type": "code",
   "execution_count": 17,
   "id": "5f2e249e-2dc5-495d-8410-8e3c558b1024",
   "metadata": {},
   "outputs": [
    {
     "data": {
      "text/plain": [
       "0.018095768374164812"
      ]
     },
     "execution_count": 17,
     "metadata": {},
     "output_type": "execute_result"
    }
   ],
   "source": [
    "# Overclassified\n",
    "lender_notPreclassified/total_lenders"
   ]
  },
  {
   "cell_type": "markdown",
   "id": "deac37ae-0203-41e7-9b7a-27d1e27aa291",
   "metadata": {
    "tags": []
   },
   "source": [
    "### Agency"
   ]
  },
  {
   "cell_type": "code",
   "execution_count": 32,
   "id": "24fb24cb-f2f5-4866-9463-9d881c2dd7f5",
   "metadata": {},
   "outputs": [
    {
     "name": "stdout",
     "output_type": "stream",
     "text": [
      "3.440669779423603% of incoming messages are about agencies\n"
     ]
    }
   ],
   "source": [
    "print( len(classified[classified.isAgency])/len(classified)*100, end='' )\n",
    "print('% of incoming messages are about agencies')"
   ]
  },
  {
   "cell_type": "code",
   "execution_count": 18,
   "id": "2f64e2da-794e-4098-a0f3-25392bdc871e",
   "metadata": {},
   "outputs": [
    {
     "data": {
      "text/plain": [
       "(True, 0.9964238446377032)"
      ]
     },
     "execution_count": 18,
     "metadata": {},
     "output_type": "execute_result"
    }
   ],
   "source": [
    "is_about_agency('can I ask for list of legal agencies for domestic helper in hongkong')"
   ]
  },
  {
   "cell_type": "code",
   "execution_count": 19,
   "id": "df26a69e-ceaa-4e9c-ab5c-3a7428fbf5da",
   "metadata": {},
   "outputs": [],
   "source": [
    "no_match_agency = classified[classified.isAgency != classified.preAgency]"
   ]
  },
  {
   "cell_type": "code",
   "execution_count": 20,
   "id": "8420df51-2c5d-44bf-ab15-68f497ac36cb",
   "metadata": {},
   "outputs": [
    {
     "data": {
      "text/plain": [
       "'can I ask for list of legal agencies for domestic helper in hongkong'"
      ]
     },
     "execution_count": 20,
     "metadata": {},
     "output_type": "execute_result"
    }
   ],
   "source": [
    "no_match_agency[['message', 'isAgency', 'preAgency']].iloc[1].message"
   ]
  },
  {
   "cell_type": "code",
   "execution_count": 21,
   "id": "c41efb1b-5dd7-4348-bb9e-11cee76c90ea",
   "metadata": {},
   "outputs": [
    {
     "data": {
      "text/plain": [
       "120"
      ]
     },
     "execution_count": 21,
     "metadata": {},
     "output_type": "execute_result"
    }
   ],
   "source": [
    "len( classified[classified.isAgency & (classified.preAgency == False)] )"
   ]
  },
  {
   "cell_type": "code",
   "execution_count": 22,
   "id": "cf9ce32a-a012-4686-863d-3aed7ee7149d",
   "metadata": {},
   "outputs": [
    {
     "data": {
      "text/plain": [
       "0"
      ]
     },
     "execution_count": 22,
     "metadata": {},
     "output_type": "execute_result"
    }
   ],
   "source": [
    "len( classified[classified.preAgency & (classified.isAgency == False)] )"
   ]
  },
  {
   "cell_type": "code",
   "execution_count": 23,
   "id": "dfa33c75-af0d-4cc2-bd36-279c0f052830",
   "metadata": {},
   "outputs": [
    {
     "data": {
      "text/plain": [
       "2137"
      ]
     },
     "execution_count": 23,
     "metadata": {},
     "output_type": "execute_result"
    }
   ],
   "source": [
    "len( classified[classified.preAgency | classified.isAgency] )"
   ]
  },
  {
   "cell_type": "markdown",
   "id": "69c1d81b-ba94-4e33-8b72-0cb27f7e4367",
   "metadata": {},
   "source": [
    "### Employer"
   ]
  },
  {
   "cell_type": "code",
   "execution_count": 34,
   "id": "3e650711-2629-46ec-9ad8-6de60a5b9281",
   "metadata": {},
   "outputs": [
    {
     "name": "stdout",
     "output_type": "stream",
     "text": [
      "5.6657543068748994% of incoming messages are about employers\n"
     ]
    }
   ],
   "source": [
    "print( len(classified[classified.isEmployer])/len(classified)*100, end='' )\n",
    "print('% of incoming messages are about employers')"
   ]
  },
  {
   "cell_type": "code",
   "execution_count": 24,
   "id": "845fd172-73b7-4780-8ee0-f2a5958f7c82",
   "metadata": {},
   "outputs": [],
   "source": [
    "no_match_employer = classified[classified.isEmployer != classified.preEmployer]"
   ]
  },
  {
   "cell_type": "code",
   "execution_count": 25,
   "id": "d22008ff-baee-430b-8ea2-942532116b76",
   "metadata": {},
   "outputs": [
    {
     "data": {
      "text/html": [
       "<div>\n",
       "<style scoped>\n",
       "    .dataframe tbody tr th:only-of-type {\n",
       "        vertical-align: middle;\n",
       "    }\n",
       "\n",
       "    .dataframe tbody tr th {\n",
       "        vertical-align: top;\n",
       "    }\n",
       "\n",
       "    .dataframe thead th {\n",
       "        text-align: right;\n",
       "    }\n",
       "</style>\n",
       "<table border=\"1\" class=\"dataframe\">\n",
       "  <thead>\n",
       "    <tr style=\"text-align: right;\">\n",
       "      <th></th>\n",
       "      <th>message</th>\n",
       "      <th>isEmployer</th>\n",
       "      <th>preEmployer</th>\n",
       "    </tr>\n",
       "  </thead>\n",
       "  <tbody>\n",
       "    <tr>\n",
       "      <th>1596</th>\n",
       "      <td>gandang hapon po tanong lng kong pwede ba yon ...</td>\n",
       "      <td>True</td>\n",
       "      <td>False</td>\n",
       "    </tr>\n",
       "    <tr>\n",
       "      <th>1730</th>\n",
       "      <td>Sunduin ko lang na terminate ko pinsan ihatid ...</td>\n",
       "      <td>True</td>\n",
       "      <td>False</td>\n",
       "    </tr>\n",
       "    <tr>\n",
       "      <th>2690</th>\n",
       "      <td>Ma'am, I can leave the house at 4 pm because o...</td>\n",
       "      <td>True</td>\n",
       "      <td>False</td>\n",
       "    </tr>\n",
       "    <tr>\n",
       "      <th>3575</th>\n",
       "      <td>Tas sino po magrerecieve? Amo. Ko po ba? Or ak...</td>\n",
       "      <td>True</td>\n",
       "      <td>False</td>\n",
       "    </tr>\n",
       "    <tr>\n",
       "      <th>3703</th>\n",
       "      <td>Send q po yung pdos q later ma'am pag d na po ...</td>\n",
       "      <td>True</td>\n",
       "      <td>False</td>\n",
       "    </tr>\n",
       "    <tr>\n",
       "      <th>3726</th>\n",
       "      <td>Ok ma'am,tnx.....sagutan q po mamaya lht pag m...</td>\n",
       "      <td>True</td>\n",
       "      <td>False</td>\n",
       "    </tr>\n",
       "    <tr>\n",
       "      <th>5003</th>\n",
       "      <td>Agency po \\nBright po s Pinas \\nAsia Top nmn p...</td>\n",
       "      <td>True</td>\n",
       "      <td>False</td>\n",
       "    </tr>\n",
       "    <tr>\n",
       "      <th>5339</th>\n",
       "      <td>gdpm po!dko na po nasave mga messages or evide...</td>\n",
       "      <td>True</td>\n",
       "      <td>False</td>\n",
       "    </tr>\n",
       "    <tr>\n",
       "      <th>5353</th>\n",
       "      <td>I also lend money to UA but my Suddenly my con...</td>\n",
       "      <td>True</td>\n",
       "      <td>False</td>\n",
       "    </tr>\n",
       "    <tr>\n",
       "      <th>5605</th>\n",
       "      <td>I have balance in.Prime credit of 4months unti...</td>\n",
       "      <td>True</td>\n",
       "      <td>False</td>\n",
       "    </tr>\n",
       "  </tbody>\n",
       "</table>\n",
       "</div>"
      ],
      "text/plain": [
       "                                                message  isEmployer  \\\n",
       "1596  gandang hapon po tanong lng kong pwede ba yon ...        True   \n",
       "1730  Sunduin ko lang na terminate ko pinsan ihatid ...        True   \n",
       "2690  Ma'am, I can leave the house at 4 pm because o...        True   \n",
       "3575  Tas sino po magrerecieve? Amo. Ko po ba? Or ak...        True   \n",
       "3703  Send q po yung pdos q later ma'am pag d na po ...        True   \n",
       "3726  Ok ma'am,tnx.....sagutan q po mamaya lht pag m...        True   \n",
       "5003  Agency po \\nBright po s Pinas \\nAsia Top nmn p...        True   \n",
       "5339  gdpm po!dko na po nasave mga messages or evide...        True   \n",
       "5353  I also lend money to UA but my Suddenly my con...        True   \n",
       "5605  I have balance in.Prime credit of 4months unti...        True   \n",
       "\n",
       "      preEmployer  \n",
       "1596        False  \n",
       "1730        False  \n",
       "2690        False  \n",
       "3575        False  \n",
       "3703        False  \n",
       "3726        False  \n",
       "5003        False  \n",
       "5339        False  \n",
       "5353        False  \n",
       "5605        False  "
      ]
     },
     "execution_count": 25,
     "metadata": {},
     "output_type": "execute_result"
    }
   ],
   "source": [
    "no_match_employer[['message', 'isEmployer', 'preEmployer']].head(10)"
   ]
  },
  {
   "cell_type": "code",
   "execution_count": 26,
   "id": "58e0f72d-50b1-4a56-85fc-9144e2b5c3ab",
   "metadata": {},
   "outputs": [
    {
     "data": {
      "text/plain": [
       "260"
      ]
     },
     "execution_count": 26,
     "metadata": {},
     "output_type": "execute_result"
    }
   ],
   "source": [
    "len( classified[classified.isEmployer & (classified.preEmployer == False)] )"
   ]
  },
  {
   "cell_type": "code",
   "execution_count": 27,
   "id": "a6e25f05-3ed7-429f-8716-10cd03819dd4",
   "metadata": {},
   "outputs": [
    {
     "data": {
      "text/plain": [
       "0"
      ]
     },
     "execution_count": 27,
     "metadata": {},
     "output_type": "execute_result"
    }
   ],
   "source": [
    "len( classified[classified.preEmployer & (classified.isEmployer == False)] )"
   ]
  },
  {
   "cell_type": "code",
   "execution_count": 28,
   "id": "3115ba04-814f-4926-93e8-bfee989707dc",
   "metadata": {
    "tags": []
   },
   "outputs": [
    {
     "data": {
      "text/plain": [
       "3519"
      ]
     },
     "execution_count": 28,
     "metadata": {},
     "output_type": "execute_result"
    }
   ],
   "source": [
    "len( classified[classified.preEmployer | (classified.isEmployer)] )"
   ]
  }
 ],
 "metadata": {
  "kernelspec": {
   "display_name": "Python 3 (ipykernel)",
   "language": "python",
   "name": "python3"
  },
  "language_info": {
   "codemirror_mode": {
    "name": "ipython",
    "version": 3
   },
   "file_extension": ".py",
   "mimetype": "text/x-python",
   "name": "python",
   "nbconvert_exporter": "python",
   "pygments_lexer": "ipython3",
   "version": "3.9.7"
  }
 },
 "nbformat": 4,
 "nbformat_minor": 5
}
